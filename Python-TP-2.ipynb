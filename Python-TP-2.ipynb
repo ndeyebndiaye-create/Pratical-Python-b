{
 "cells": [
  {
   "cell_type": "markdown",
   "id": "d68c1dee",
   "metadata": {
    "id": "d68c1dee"
   },
   "source": [
    "# Practical_2: String and files"
   ]
  },
  {
   "cell_type": "markdown",
   "id": "ac19c054",
   "metadata": {
    "id": "bea983a3"
   },
   "source": [
    "---\n",
    "\n",
    "### Exercise 1:\n",
    "Create a string variable `text` and assign it the value `\"Python is amazing!\"`.\n",
    "\n",
    "```python\n",
    "# Exercise 1\n",
    "```\n",
    "\n",
    "---"
   ]
  },
  {
   "cell_type": "code",
   "execution_count": null,
   "id": "9d6c5999",
   "metadata": {},
   "outputs": [],
   "source": [
    "text=\"Python is amazing\""
   ]
  },
  {
   "cell_type": "markdown",
   "id": "a09b8d53",
   "metadata": {
    "id": "bea983a3"
   },
   "source": [
    "### Exercise 2:\n",
    "Find the length of the string `\"Hello, World!\"` and store it in a variable `length`.\n",
    "\n",
    "```python\n",
    "# Exercise 2\n",
    "```\n",
    "\n",
    "---"
   ]
  },
  {
   "cell_type": "code",
   "execution_count": null,
   "id": "ab24ac45",
   "metadata": {},
   "outputs": [],
   "source": [
    "length=len(\"Hello, World\")"
   ]
  },
  {
   "cell_type": "markdown",
   "id": "132e5851",
   "metadata": {
    "id": "bea983a3"
   },
   "source": [
    "### Exercise 3:\n",
    "Convert the string `\"python programming\"` to uppercase and store it in a variable `upper_text`.\n",
    "\n",
    "```python\n",
    "# Exercise 3\n",
    "```\n",
    "\n",
    "---"
   ]
  },
  {
   "cell_type": "code",
   "execution_count": 1,
   "id": "c9abfa65",
   "metadata": {},
   "outputs": [
    {
     "name": "stdout",
     "output_type": "stream",
     "text": [
      "PYTHON PROGRAMMING\n"
     ]
    }
   ],
   "source": [
    "upper_text=\"python programming\"\n",
    "print(upper_text.upper())"
   ]
  },
  {
   "cell_type": "markdown",
   "id": "9373d6c1",
   "metadata": {
    "id": "bea983a3"
   },
   "source": [
    "### Exercise 4:\n",
    "Extract the first 5 characters from the string `\"Artificial Intelligence\"`.\n",
    "\n",
    "```python\n",
    "# Exercise 4\n",
    "```\n",
    "\n",
    "---"
   ]
  },
  {
   "cell_type": "code",
   "execution_count": 1,
   "id": "b28cf670",
   "metadata": {},
   "outputs": [
    {
     "name": "stdout",
     "output_type": "stream",
     "text": [
      "Artif\n"
     ]
    }
   ],
   "source": [
    "string=\"Artificial Intelligence\"\n",
    "print(string[:5])"
   ]
  },
  {
   "cell_type": "markdown",
   "id": "9f63759e",
   "metadata": {
    "id": "bea983a3"
   },
   "source": [
    "### Exercise 5:\n",
    "Concatenate the strings `\"Hello\"` and `\"World\"` with a space in between.\n",
    "\n",
    "```python\n",
    "# Exercise 5\n",
    "```\n",
    "\n",
    "---"
   ]
  },
  {
   "cell_type": "code",
   "execution_count": 8,
   "id": "6d6238ad",
   "metadata": {},
   "outputs": [
    {
     "data": {
      "text/plain": [
       "'Hello World'"
      ]
     },
     "execution_count": 8,
     "metadata": {},
     "output_type": "execute_result"
    }
   ],
   "source": [
    "test= \"Hello\" + \" \" +  \"World\""
   ]
  },
  {
   "cell_type": "markdown",
   "id": "1fd34049",
   "metadata": {
    "id": "bea983a3"
   },
   "source": [
    "### Exercise 6:\n",
    "Replace the word `\"dog\"` with `\"cat\"` in the string `\"The quick brown dog jumps over the lazy dog.\"`.\n",
    "\n",
    "```python\n",
    "# Exercise 6\n",
    "```\n",
    "\n",
    "---"
   ]
  },
  {
   "cell_type": "code",
   "execution_count": 9,
   "id": "4ec09daa",
   "metadata": {},
   "outputs": [
    {
     "name": "stdout",
     "output_type": "stream",
     "text": [
      "The quick brown cat jumps over the lazy cat.\n"
     ]
    }
   ],
   "source": [
    "string= \"The quick brown dog jumps over the lazy dog.\"\n",
    "print(string.replace('dog','cat'))"
   ]
  },
  {
   "cell_type": "markdown",
   "id": "1005573d",
   "metadata": {
    "id": "bea983a3"
   },
   "source": [
    "### Exercise 7:\n",
    "Split the string `\"apple,banana,orange\"` by commas and store the result in a list `fruits_list`.\n",
    "\n",
    "```python\n",
    "# Exercise 7\n",
    "```\n",
    "\n",
    "---"
   ]
  },
  {
   "cell_type": "code",
   "execution_count": 11,
   "id": "307615a7",
   "metadata": {},
   "outputs": [
    {
     "name": "stdout",
     "output_type": "stream",
     "text": [
      "['apple', 'banana', 'orange']\n"
     ]
    }
   ],
   "source": [
    "string=\"apple,banana,orange\"\n",
    "print(string.split(','))"
   ]
  },
  {
   "cell_type": "markdown",
   "id": "c6cfed88",
   "metadata": {
    "id": "bea983a3"
   },
   "source": [
    "### Exercise 8:\n",
    "Use string formatting to create the sentence `\"My name is Alice and I am 25 years old.\"`, where the name and age are variables.\n",
    "\n",
    "```python\n",
    "# Exercise 8\n",
    "```\n",
    "\n",
    "---"
   ]
  },
  {
   "cell_type": "code",
   "execution_count": 12,
   "id": "7cf941e0",
   "metadata": {},
   "outputs": [
    {
     "name": "stdout",
     "output_type": "stream",
     "text": [
      "My name is Alice and I am 25 years old .\n"
     ]
    }
   ],
   "source": [
    "print(\"{} {} is {} and {} am {} {} {} .\".format('My','name','Alice','I','25','years','old'))"
   ]
  },
  {
   "cell_type": "markdown",
   "id": "c1a39f90",
   "metadata": {
    "id": "bea983a3"
   },
   "source": [
    "### Exercise 9:\n",
    "Check if the string `\"python\"` is present in the sentence `\"I love python programming\"`.\n",
    "\n",
    "```python\n",
    "# Exercise 9\n",
    "```\n",
    "\n",
    "---"
   ]
  },
  {
   "cell_type": "code",
   "execution_count": 14,
   "id": "3465786c",
   "metadata": {},
   "outputs": [
    {
     "name": "stdout",
     "output_type": "stream",
     "text": [
      "True\n"
     ]
    }
   ],
   "source": [
    "string=\"I love python programming\"\n",
    "print(\"python\" in string)"
   ]
  },
  {
   "cell_type": "markdown",
   "id": "d11e0e4a",
   "metadata": {
    "id": "bea983a3"
   },
   "source": [
    "### Exercise 10:\n",
    "Count the number of occurrences of the letter `\"e\"` in the string `\"Elephant is an elegant animal\"`.\n",
    "\n",
    "```python\n",
    "# Exercise 10\n",
    "```\n",
    "\n",
    "---"
   ]
  },
  {
   "cell_type": "code",
   "execution_count": 16,
   "id": "5df9b9ff",
   "metadata": {},
   "outputs": [
    {
     "name": "stdout",
     "output_type": "stream",
     "text": [
      "3\n"
     ]
    }
   ],
   "source": [
    "string=\"Elephant is an elegant animal\"\n",
    "print(string.count('e'))"
   ]
  },
  {
   "cell_type": "markdown",
   "id": "1e6f2ff1",
   "metadata": {
    "id": "bea983a3"
   },
   "source": [
    "### Exercise 11:\n",
    "Remove any leading and trailing spaces from the string `\"   Data Science   \"`.\n",
    "\n",
    "```python\n",
    "# Exercise 11\n",
    "```\n",
    "\n",
    "---"
   ]
  },
  {
   "cell_type": "code",
   "execution_count": 17,
   "id": "ec3a9b2c",
   "metadata": {},
   "outputs": [
    {
     "name": "stdout",
     "output_type": "stream",
     "text": [
      "Data Science\n"
     ]
    }
   ],
   "source": [
    "string=\"   Data Science   \"\n",
    "print(string.strip())"
   ]
  },
  {
   "cell_type": "markdown",
   "id": "0273918b",
   "metadata": {
    "id": "bea983a3"
   },
   "source": [
    "### Exercise 12:\n",
    "Convert the string `\"100\"` into an integer and store it in a variable `int_value`.\n",
    "\n",
    "```python\n",
    "# Exercise 12\n",
    "```\n",
    "\n",
    "---"
   ]
  },
  {
   "cell_type": "code",
   "execution_count": 19,
   "id": "7abc3a10",
   "metadata": {},
   "outputs": [
    {
     "data": {
      "text/plain": [
       "int"
      ]
     },
     "execution_count": 19,
     "metadata": {},
     "output_type": "execute_result"
    }
   ],
   "source": [
    "int_value=int(\"100\")"
   ]
  },
  {
   "cell_type": "markdown",
   "id": "3d5877de",
   "metadata": {
    "id": "bea983a3"
   },
   "source": [
    "### Exercise 13:\n",
    "Extract the substring `\"pro\"` from the string `\"programming\"`.\n",
    "\n",
    "```python\n",
    "# Exercise 13\n",
    "```\n",
    "\n",
    "---"
   ]
  },
  {
   "cell_type": "code",
   "execution_count": 22,
   "id": "6ac782bd",
   "metadata": {},
   "outputs": [
    {
     "name": "stdout",
     "output_type": "stream",
     "text": [
      "pro\n"
     ]
    }
   ],
   "source": [
    "string=\"programming\"\n",
    "print(string[:3])"
   ]
  },
  {
   "cell_type": "markdown",
   "id": "abdfec1d",
   "metadata": {
    "id": "bea983a3"
   },
   "source": [
    "### Exercise 14:\n",
    "Check if the string `\"data\"` starts with `\"da\"` and ends with `\"ta\"`.\n",
    "\n",
    "```python\n",
    "# Exercise 14\n",
    "```\n",
    "\n",
    "---"
   ]
  },
  {
   "cell_type": "code",
   "execution_count": 23,
   "id": "ef522694",
   "metadata": {},
   "outputs": [
    {
     "data": {
      "text/plain": [
       "True"
      ]
     },
     "execution_count": 23,
     "metadata": {},
     "output_type": "execute_result"
    }
   ],
   "source": [
    "string=\"data\"\n",
    "string.startswith(\"da\")\n",
    "string.endswith(\"ta\")"
   ]
  },
  {
   "cell_type": "markdown",
   "id": "a4eb24e3",
   "metadata": {
    "id": "bea983a3"
   },
   "source": [
    "### Exercise 15:\n",
    "Reverse the string `\"machine learning\"` and store the result in `reversed_text`.\n",
    "\n",
    "```python\n",
    "# Exercise 15\n",
    "```\n",
    "\n",
    "---"
   ]
  },
  {
   "cell_type": "code",
   "execution_count": 27,
   "id": "276c9e2e",
   "metadata": {},
   "outputs": [
    {
     "name": "stdout",
     "output_type": "stream",
     "text": [
      "gninrael enihcam\n"
     ]
    }
   ],
   "source": [
    "string=\"machine learning\"\n",
    "reversed_text=string[::-1]\n",
    "print(reversed_text)"
   ]
  },
  {
   "cell_type": "markdown",
   "id": "3709808a",
   "metadata": {
    "id": "bea983a3"
   },
   "source": [
    "### Exercise 16:\n",
    "Convert the first letter of each word in the string `\"machine learning is fun\"` to uppercase.\n",
    "\n",
    "```python\n",
    "# Exercise 16\n",
    "```\n",
    "\n",
    "---"
   ]
  },
  {
   "cell_type": "code",
   "execution_count": 3,
   "id": "24b54344",
   "metadata": {},
   "outputs": [
    {
     "data": {
      "text/plain": [
       "'Machine learning is fun'"
      ]
     },
     "execution_count": 3,
     "metadata": {},
     "output_type": "execute_result"
    }
   ],
   "source": [
    "string=\"machine learning is fun\"\n",
    "done=string.capitalize()\n",
    "done"
   ]
  },
  {
   "cell_type": "markdown",
   "id": "d49cbd8e",
   "metadata": {
    "id": "bea983a3"
   },
   "source": [
    "### Exercise 17:\n",
    "Create a multiline string representing a poem and store it in a variable `poem`.\n",
    "\n",
    "```python\n",
    "# Exercise 17\n",
    "```\n",
    "\n",
    "---"
   ]
  },
  {
   "cell_type": "code",
   "execution_count": 55,
   "id": "5ddc483d",
   "metadata": {},
   "outputs": [
    {
     "data": {
      "text/plain": [
       "'Mon enfant, ma sœur.Songe à la douceur.D’aller là-bas vivre ensemble !.Aimer à loisir,Aimer et mourir'"
      ]
     },
     "execution_count": 55,
     "metadata": {},
     "output_type": "execute_result"
    }
   ],
   "source": [
    "poem= \"\"\"Mon enfant, ma sœur\n",
    "Songe à la douceur\n",
    "D’aller là-bas vivre ensemble !\n",
    "Aimer à loisir,Aimer et mourir\"\"\"\n",
    "\n",
    "poem"
   ]
  },
  {
   "cell_type": "markdown",
   "id": "e8c5cc4a",
   "metadata": {
    "id": "bea983a3"
   },
   "source": [
    "### Exercise 18:\n",
    "Write a string to a file named `\"output.txt\"`.\n",
    "\n",
    "```python\n",
    "# Exercise 18\n",
    "```\n",
    "\n",
    "---"
   ]
  },
  {
   "cell_type": "code",
   "execution_count": 39,
   "id": "7ab5fadb",
   "metadata": {},
   "outputs": [
    {
     "name": "stdout",
     "output_type": "stream",
     "text": [
      "<_io.TextIOWrapper name='/home/bint-idriss/Documents/calpin2/output.txt' mode='w' encoding='UTF-8'>\n"
     ]
    }
   ],
   "source": [
    "string=open(\"/home/bint-idriss/Documents/calpin2/output.txt\",'w')\n",
    "string.write('Hello Aims!')\n",
    "string.close()\n"
   ]
  },
  {
   "cell_type": "markdown",
   "id": "0154fc16",
   "metadata": {
    "id": "bea983a3"
   },
   "source": [
    "### Exercise 19:\n",
    "Read the contents of a file named `\"data.txt\"` and print it line by line.\n",
    "\n",
    "```python\n",
    "# Exercise 19\n",
    "```\n",
    "\n",
    "---"
   ]
  },
  {
   "cell_type": "code",
   "execution_count": 35,
   "id": "77714d29",
   "metadata": {},
   "outputs": [
    {
     "name": "stdout",
     "output_type": "stream",
     "text": [
      "Au pays qui te ressemble !\n",
      "\n",
      "  Les soleils mouillés\n",
      "\n",
      "  De ces ciels brouillés\n",
      "\n",
      "Pour mon esprit ont les charmes\n",
      "\n",
      "  Si mystérieux\n",
      "\n",
      "  De tes traîtres yeux,\n",
      "\n",
      "Brillant à travers leurs larmes.\n",
      "\n",
      " \n",
      "\n",
      "Là, tout n’est qu’ordre et beauté,\n",
      "\n",
      "Luxe, calme et volupté.\n"
     ]
    }
   ],
   "source": [
    "string=open('/home/bint-idriss/Documents/calpin2/data.txt','r')\n",
    "line=string.readline()\n",
    "while line:\n",
    "    print(line,end='')\n",
    "    line=string.readline()\n",
    "string.close()"
   ]
  },
  {
   "cell_type": "markdown",
   "id": "239d0865",
   "metadata": {
    "id": "bea983a3"
   },
   "source": [
    "### Exercise 20:\n",
    "Check if a file `\"example.txt\"` exists before opening it.\n",
    "\n",
    "```python\n",
    "# Exercise 20\n",
    "```\n",
    "\n",
    "---"
   ]
  },
  {
   "cell_type": "code",
   "execution_count": 40,
   "id": "8e4445fc",
   "metadata": {},
   "outputs": [
    {
     "name": "stdout",
     "output_type": "stream",
     "text": [
      "fichier not exist\n"
     ]
    }
   ],
   "source": [
    "import os\n",
    "from pathlib import Path\n",
    "file=Path(\"example.txt\")\n",
    "if file.exists():\n",
    "    print(\"fichier exist\")\n",
    "else:\n",
    "    print(\"fichier no exist\")\n",
    "   "
   ]
  },
  {
   "cell_type": "markdown",
   "id": "2185dc4c",
   "metadata": {
    "id": "bea983a3"
   },
   "source": [
    "### Exercise 21:\n",
    "Append a new line `\"This is a new line\"` to an existing file `\"notes.txt\"`.\n",
    "\n",
    "```python\n",
    "# Exercise 21\n",
    "```\n",
    "\n",
    "---"
   ]
  },
  {
   "cell_type": "code",
   "execution_count": 43,
   "id": "983bee8b",
   "metadata": {},
   "outputs": [],
   "source": [
    "file=open(\"/home/bint-idriss/Documents/calpin2/notes.txt\",'a')\n",
    "file.write(\"This is a new line.\\n\")\n",
    "file.close()"
   ]
  },
  {
   "cell_type": "markdown",
   "id": "1569654b",
   "metadata": {
    "id": "bea983a3"
   },
   "source": [
    "### Exercise 22:\n",
    "Read the contents of a file `\"log.txt\"` and store each line in a list `log_lines`.\n",
    "\n",
    "```python\n",
    "# Exercise 22\n",
    "```\n",
    "\n",
    "---"
   ]
  },
  {
   "cell_type": "code",
   "execution_count": 64,
   "id": "983fe8ad",
   "metadata": {},
   "outputs": [],
   "source": [
    "file=open(\"/home/bint-idriss/Documents/calpin2/log.txt\",'r')\n",
    "content=file.readlines()\n",
    "\n",
    "log_lines=[content]\n",
    "\n",
    "file.close()"
   ]
  },
  {
   "cell_type": "markdown",
   "id": "1e84fb5e",
   "metadata": {
    "id": "bea983a3"
   },
   "source": [
    "### Exercise 23:\n",
    "Create a new file `\"report.txt\"` and write the string `\"Data analysis report\"` to it.\n",
    "\n",
    "```python\n",
    "# Exercise 23\n",
    "```\n",
    "\n",
    "---"
   ]
  },
  {
   "cell_type": "code",
   "execution_count": 65,
   "id": "b341b8c6",
   "metadata": {},
   "outputs": [],
   "source": [
    "file=open(\"/home/bint-idriss/Documents/calpin2/report.txt\",'w')\n",
    "file.write(\"Data analysis report\")\n",
    "file.close()"
   ]
  },
  {
   "cell_type": "markdown",
   "id": "4aa4ae84",
   "metadata": {
    "id": "bea983a3"
   },
   "source": [
    "### Exercise 24:\n",
    "Replace the word `\"error\"` with `\"issue\"` in a file `\"log.txt\"`.\n",
    "\n",
    "```python\n",
    "# Exercise 24\n",
    "```\n",
    "\n",
    "---"
   ]
  },
  {
   "cell_type": "code",
   "execution_count": 70,
   "id": "c3792c1f",
   "metadata": {},
   "outputs": [
    {
     "name": "stdout",
     "output_type": "stream",
     "text": [
      "  issue\n",
      "  Vois sur ces canaux\n",
      "  Dormir ces vaisseaux\n",
      "Dont l’humeur est vagabonde ;\n",
      "  C’est pour assouvir\n",
      "  Ton moindre désir\n",
      "Qu’ils viennent du bout du monde.\n",
      "  — Les soleils couchants\n",
      "  Revêtent les champs,\n",
      "Les canaux, la ville entière,\n",
      "  D’hyacinthe et d’or ;\n",
      "  Le monde s’endort\n",
      "Dans une chaude lumière.\n",
      "\n"
     ]
    }
   ],
   "source": [
    "with open('/home/bint-idriss/Documents/calpin2/log.txt', 'r') as file:\n",
    "    content=file.read()\n",
    "    new_content=content.replace('error','issue')\n",
    "\n",
    "with open('/home/bint-idriss/Documents/calpin2/log.txt', 'w') as file:\n",
    "    file.write(new_content)\n"
   ]
  },
  {
   "cell_type": "markdown",
   "id": "a8ebb98e",
   "metadata": {
    "id": "bea983a3"
   },
   "source": [
    "### Exercise 25:\n",
    "Count the number of words in a text file `\"document.txt\"`.\n",
    "\n",
    "```python\n",
    "# Exercise 25\n",
    "```\n",
    "\n",
    "---"
   ]
  },
  {
   "cell_type": "code",
   "execution_count": 76,
   "id": "b248ac1f",
   "metadata": {},
   "outputs": [
    {
     "name": "stdout",
     "output_type": "stream",
     "text": [
      "14\n"
     ]
    }
   ],
   "source": [
    "file=open('/home/bint-idriss/Documents/calpin2/document.txt','r')\n",
    "content=file.read()\n",
    "n=len(content)\n",
    "print(n) \n",
    "file.close()"
   ]
  },
  {
   "cell_type": "markdown",
   "id": "6fb6bf51",
   "metadata": {
    "id": "bea983a3"
   },
   "source": [
    "### Exercise 26:\n",
    "Write a Python script that reads a file `\"essay.txt\"` and prints the total number of lines, words, and characters.\n",
    "\n",
    "```python\n",
    "# Exercise 26\n",
    "```\n",
    "\n",
    "---"
   ]
  },
  {
   "cell_type": "code",
   "execution_count": 92,
   "id": "3b0c5ac6",
   "metadata": {},
   "outputs": [],
   "source": [
    "with open('/home/bint-idriss/Documents/calpin2/essay.txt','r') as file:\n",
    "    content=file.read()\n",
    "n_lines=len(content.splitlines())\n",
    "n_words=len(content.split())\n",
    "n_chars=len(content)\n"
   ]
  },
  {
   "cell_type": "markdown",
   "id": "c20aec46",
   "metadata": {
    "id": "bea983a3"
   },
   "source": [
    "### Exercise 27:\n",
    "Copy the contents of one file `\"source.txt\"` to another file `\"destination.txt\"`.\n",
    "\n",
    "```python\n",
    "# Exercise 27\n",
    "```\n",
    "\n",
    "---"
   ]
  },
  {
   "cell_type": "code",
   "execution_count": 86,
   "id": "08296376",
   "metadata": {},
   "outputs": [],
   "source": [
    "with open('/home/bint-idriss/Documents/calpin2/source.txt','r') as first:\n",
    "    content1=first.read()\n",
    "with open('/home/bint-idriss/Documents/calpin2/destination.txt','w') as dest:\n",
    "    C=dest.write(content1)\n"
   ]
  },
  {
   "cell_type": "markdown",
   "id": "9b2a28df",
   "metadata": {
    "id": "bea983a3"
   },
   "source": [
    "### Exercise 28:\n",
    "Write a Python function that takes a filename as input and returns the number of lines in the file.\n",
    "\n",
    "```python\n",
    "# Exercise 28\n",
    "```\n",
    "\n",
    "---\n"
   ]
  },
  {
   "cell_type": "code",
   "execution_count": 103,
   "id": "2bd52d68",
   "metadata": {},
   "outputs": [
    {
     "name": "stdout",
     "output_type": "stream",
     "text": [
      "3\n"
     ]
    }
   ],
   "source": [
    "def function (first):\n",
    "    content=first.read()\n",
    "    b=len(content.splitlines())\n",
    "    return b\n",
    "with open('/home/bint-idriss/Documents/calpin2/source.txt','r') as first:\n",
    "    r=function(first)\n",
    "print(r)\n"
   ]
  },
  {
   "cell_type": "markdown",
   "id": "32265b76",
   "metadata": {
    "id": "bea983a3"
   },
   "source": [
    "### Exercise 29:\n",
    "Extract all the words from a text file `\"article.txt\"` that contain more than 5 characters.\n",
    "\n",
    "```python\n",
    "# Exercise 29\n",
    "```\n",
    "\n",
    "---"
   ]
  },
  {
   "cell_type": "code",
   "execution_count": 105,
   "id": "b99c4dc9",
   "metadata": {},
   "outputs": [
    {
     "name": "stdout",
     "output_type": "stream",
     "text": [
      "Là, tout n’est qu’ordre et beauté,\n",
      "\n"
     ]
    }
   ],
   "source": [
    "file=open('/home/bint-idriss/Documents/calpin2/article.txt','r')\n",
    "content=file.read()\n",
    "print(content[:])\n",
    "file.close()"
   ]
  },
  {
   "cell_type": "markdown",
   "id": "c8731b68",
   "metadata": {
    "id": "bea983a3"
   },
   "source": [
    "### Exercise 30:\n",
    "Convert the contents of a file `\"notes.txt\"` to uppercase and save the result in another file `\"uppercase_notes.txt\"`.\n",
    "\n",
    "\n",
    "```python\n",
    "# Exercise 30\n",
    "```\n",
    "\n",
    "---\n"
   ]
  },
  {
   "cell_type": "code",
   "execution_count": 118,
   "id": "eb0fbce5",
   "metadata": {
    "scrolled": true
   },
   "outputs": [
    {
     "name": "stdout",
     "output_type": "stream",
     "text": [
      "\n"
     ]
    }
   ],
   "source": [
    "file=open('/home/bint-idriss/Documents/calpin2/notes.txt','r')\n",
    "content=file.read()\n",
    "print(content.upper())\n",
    "upperfile=open('/home/bint-idriss/Documents/calpin2/uppercase_notes.txt','w')\n",
    "content2=upperfile.write(content.upper())\n",
    "file.close()"
   ]
  },
  {
   "cell_type": "markdown",
   "id": "52881ed3",
   "metadata": {
    "id": "bea983a3"
   },
   "source": [
    "### Exercise 31:\n",
    "Write a Python script that reads a file and removes all empty lines.\n",
    "\n",
    "```python\n",
    "# Exercise 31\n",
    "```\n",
    "\n",
    "---"
   ]
  },
  {
   "cell_type": "code",
   "execution_count": null,
   "id": "7b9f544e",
   "metadata": {},
   "outputs": [],
   "source": [
    "with open('/home/bint-idriss/Documents/calpin2/script.txt','r') as file:\n",
    "    content=file.read()\n",
    "file.close()"
   ]
  },
  {
   "cell_type": "markdown",
   "id": "4f543195",
   "metadata": {
    "id": "bea983a3"
   },
   "source": [
    "### Exercise 32:\n",
    "Open a file `\"config.txt\"` in both read and write mode.\n",
    "\n",
    "```python\n",
    "# Exercise 32\n",
    "```\n",
    "\n",
    "---"
   ]
  },
  {
   "cell_type": "code",
   "execution_count": 6,
   "id": "78131aab",
   "metadata": {},
   "outputs": [
    {
     "name": "stdout",
     "output_type": "stream",
     "text": [
      "\n"
     ]
    }
   ],
   "source": [
    "file=open(\"/home/bint-idriss/Documents/calpin2/config.txt\",'r')\n",
    "content=file.read()\n",
    "print(content)\n",
    "file=open(\"/home/bint-idriss/Documents/calpin2/config.txt\",'w')\n",
    "content=file.write(\"fjhwbfbfrjbrjgjkrb\")\n",
    "\n",
    "file.close()"
   ]
  },
  {
   "cell_type": "markdown",
   "id": "255f954f",
   "metadata": {
    "id": "bea983a3"
   },
   "source": [
    "### Exercise 33:\n",
    "Write a Python function that reads a file and prints the longest line in the file.\n",
    "\n",
    "```python\n",
    "# Exercise 33\n",
    "```\n",
    "\n",
    "\n",
    "---"
   ]
  },
  {
   "cell_type": "code",
   "execution_count": 15,
   "id": "8ab05da9",
   "metadata": {},
   "outputs": [
    {
     "name": "stdout",
     "output_type": "stream",
     "text": [
      "hreguerwgkwrejghrhger\n",
      "\n"
     ]
    }
   ],
   "source": [
    "def read_print(file):\n",
    "    file=open(\"/home/bint-idriss/Documents/calpin2/config.txt\",'r')\n",
    "    content=file.readlines()\n",
    "    \n",
    "    max_line=max(content,key=len)\n",
    "    print(max_line)\n",
    "            \n",
    "            \n",
    "read_print(\"config.txt\")\n",
    "        \n",
    "    \n",
    "file.close()   "
   ]
  },
  {
   "cell_type": "markdown",
   "id": "b19c414d",
   "metadata": {
    "id": "bea983a3"
   },
   "source": [
    "### Exercise 34:\n",
    "Write a Python script to count the frequency of each letter in a text file `\"message.txt\"`.\n",
    "\n",
    "```python\n",
    "# Exercise 34\n",
    "```\n",
    "\n",
    "---"
   ]
  },
  {
   "cell_type": "code",
   "execution_count": 25,
   "id": "cd51c2b1",
   "metadata": {},
   "outputs": [
    {
     "name": "stdout",
     "output_type": "stream",
     "text": [
      "h 16\n",
      "u 15\n",
      "f 16\n",
      "r 10\n",
      "e 15\n",
      "w 9\n",
      "j 10\n",
      "k 4\n",
      "l 1\n",
      "i 5\n",
      "y 4\n",
      "g 1\n",
      "q 4\n",
      "n 9\n",
      "v 6\n",
      "c 3\n",
      "d 3\n",
      "s 1\n",
      "b 1\n"
     ]
    }
   ],
   "source": [
    "file=open(\"/home/bint-idriss/Documents/calpin2/message.txt\",'r')\n",
    "content=file.read()\n",
    "\n",
    "L={}\n",
    "for i in content:\n",
    "    if i.isalpha():\n",
    "        if i in L:\n",
    "            L[i]+=1\n",
    "        else:\n",
    "            L[i]=1\n",
    "\n",
    "for letter,count in L.items():\n",
    "    print(letter,count)\n",
    "\n",
    "\n",
    "file.close()   "
   ]
  },
  {
   "cell_type": "markdown",
   "id": "872e3a23",
   "metadata": {
    "id": "bea983a3"
   },
   "source": [
    "### Exercise 35:\n",
    "Write a Python script that reads a file and prints the total number of characters, excluding spaces.\n",
    "\n",
    "```python\n",
    "# Exercise 35\n",
    "```\n",
    "\n",
    "---"
   ]
  },
  {
   "cell_type": "code",
   "execution_count": 32,
   "id": "df636139",
   "metadata": {},
   "outputs": [
    {
     "name": "stdout",
     "output_type": "stream",
     "text": [
      "4\n"
     ]
    }
   ],
   "source": [
    "file=open(\"/home/bint-idriss/Documents/calpin2/message.txt\",'r')\n",
    "content=file.read()\n",
    "\n",
    "L=content.split(',')\n",
    "\n",
    "result=len(L)\n",
    "print(result)\n",
    "\n",
    "file.close()"
   ]
  },
  {
   "cell_type": "markdown",
   "id": "101701d9",
   "metadata": {
    "id": "bea983a3"
   },
   "source": [
    "### Exercise 36:\n",
    "Create a Python script to check whether a file is empty or not.\n",
    "\n",
    "```python\n",
    "# Exercise 36\n",
    "```\n",
    "\n",
    "---"
   ]
  },
  {
   "cell_type": "code",
   "execution_count": null,
   "id": "ba662e46",
   "metadata": {},
   "outputs": [],
   "source": [
    "import os\n",
    "file=open(\"/home/bint-idriss/Documents/calpin2/message.txt\",'r')\n",
    "content=file.read()\n",
    "if not os.listdir(\"/home/bint-idriss/Documents/calpin2/message.txt\"):\n",
    "    print('file is empty')\n",
    "else:\n",
    "    print('file is not empty')"
   ]
  },
  {
   "cell_type": "markdown",
   "id": "d4c13bbe",
   "metadata": {
    "id": "bea983a3"
   },
   "source": [
    "### Exercise 37:\n",
    "Write a Python function that reads a file and removes all punctuation marks from the text.\n",
    "\n",
    "```python\n",
    "# Exercise 37\n",
    "```\n",
    "\n",
    "---"
   ]
  },
  {
   "cell_type": "code",
   "execution_count": 35,
   "id": "ab930f44",
   "metadata": {},
   "outputs": [
    {
     "name": "stdout",
     "output_type": "stream",
     "text": [
      "Mignonne allons voir si la rose\n",
      "Qui ce matin avait déclose\n",
      "Sa robe de pourpre au Soleil\n",
      "A point perdu cette vesprée\n",
      "Les plis de sa robe pourprée\n",
      "Et son teint au vôtre pareil\n",
      "\n"
     ]
    }
   ],
   "source": [
    "file=open(\"/home/bint-idriss/Documents/calpin2/message.txt\",'r')\n",
    "content=file.read()\n",
    "\n",
    "new_content=''.join(i for i in content if i.isalnum() or i.isspace())\n",
    "\n",
    "print(new_content)\n",
    "file.close()\n",
    "\n"
   ]
  },
  {
   "cell_type": "markdown",
   "id": "e85b88ec",
   "metadata": {
    "id": "bea983a3"
   },
   "source": [
    "### Exercise 38:\n",
    "Create a Python function that writes a list of strings to a file, each string on a new line.\n",
    "\n",
    "```python\n",
    "# Exercise 38\n",
    "```\n",
    "\n",
    "---"
   ]
  },
  {
   "cell_type": "code",
   "execution_count": 37,
   "id": "2a7fb64a",
   "metadata": {},
   "outputs": [
    {
     "name": "stdout",
     "output_type": "stream",
     "text": [
      "None\n"
     ]
    }
   ],
   "source": [
    "file=open(\"/home/bint-idriss/Documents/calpin2/message.txt\",'w')\n",
    "lines = ['First line\\n', 'Second line\\n', 'Third line\\n']\n",
    "content=file.writelines(lines)\n",
    "print(content)\n",
    "file.close()\n",
    "\n"
   ]
  },
  {
   "cell_type": "markdown",
   "id": "3ae194ef",
   "metadata": {
    "id": "bea983a3"
   },
   "source": [
    "### Exercise 39:\n",
    "Write a Python script to count the number of lines that start with a specific letter (e.g., \"A\") in a text file.\n",
    "\n",
    "```python\n",
    "# Exercise 39\n",
    "```\n",
    "\n",
    "---"
   ]
  },
  {
   "cell_type": "code",
   "execution_count": 52,
   "id": "6fed3419",
   "metadata": {},
   "outputs": [
    {
     "ename": "AttributeError",
     "evalue": "'str' object has no attribute 'startwith'",
     "output_type": "error",
     "traceback": [
      "\u001b[0;31m---------------------------------------------------------------------------\u001b[0m",
      "\u001b[0;31mAttributeError\u001b[0m                            Traceback (most recent call last)",
      "Cell \u001b[0;32mIn[52], line 6\u001b[0m\n\u001b[1;32m      4\u001b[0m C\u001b[38;5;241m=\u001b[39m\u001b[38;5;241m0\u001b[39m\n\u001b[1;32m      5\u001b[0m \u001b[38;5;28;01mfor\u001b[39;00m i \u001b[38;5;129;01min\u001b[39;00m content:\n\u001b[0;32m----> 6\u001b[0m     \u001b[38;5;28;01mif\u001b[39;00m \u001b[43mi\u001b[49m\u001b[38;5;241;43m.\u001b[39;49m\u001b[43mlstrip\u001b[49m\u001b[43m(\u001b[49m\u001b[43m)\u001b[49m\u001b[38;5;241;43m.\u001b[39;49m\u001b[43mstartwith\u001b[49m(\u001b[38;5;124m\"\u001b[39m\u001b[38;5;124mA\u001b[39m\u001b[38;5;124m\"\u001b[39m):\n\u001b[1;32m      7\u001b[0m          C\u001b[38;5;241m+\u001b[39m\u001b[38;5;241m=\u001b[39m\u001b[38;5;241m1\u001b[39m\n\u001b[1;32m      8\u001b[0m \u001b[38;5;28mprint\u001b[39m (C)   \n",
      "\u001b[0;31mAttributeError\u001b[0m: 'str' object has no attribute 'startwith'"
     ]
    }
   ],
   "source": [
    "file=open(\"/home/bint-idriss/Documents/calpin2/message.txt\",'r')\n",
    "content=file.readlines()\n",
    "file.close()\n",
    "C=0\n",
    "for i in content:\n",
    "    if i.lstrip().startwith(\"A\"):\n",
    "         C+=1\n",
    "print (C)   \n",
    "    "
   ]
  },
  {
   "cell_type": "markdown",
   "id": "5785f90c",
   "metadata": {
    "id": "bea983a3"
   },
   "source": [
    "### Exercise 40:\n",
    "Write a Python function that takes a string as input and writes it to a file `\"output.txt\"` in reverse order.\n",
    "\n",
    "```python\n",
    "# Exercise 40\n",
    "```\n",
    "\n",
    "---"
   ]
  },
  {
   "cell_type": "code",
   "execution_count": 57,
   "id": "ed767f6f",
   "metadata": {},
   "outputs": [
    {
     "name": "stdout",
     "output_type": "stream",
     "text": [
      "enter a text or character : khskjefehks\n",
      "skhefejkshk\n"
     ]
    }
   ],
   "source": [
    "def func(string):\n",
    "    file=open(\"/home/bint-idriss/Documents/calpin2/output.txt\",'w')\n",
    "    file.write(string)\n",
    "    file.close()\n",
    "string=str(input('enter a text or character : '))\n",
    "func(string)\n",
    "reverse_order=string[::-1]\n"
   ]
  },
  {
   "cell_type": "markdown",
   "id": "4edfbbbb",
   "metadata": {
    "id": "bea983a3"
   },
   "source": [
    "### Exercise 41:\n",
    "Write a Python script that reads a file and prints all the lines that contain the word `\"Python\"`.\n",
    "\n",
    "```python\n",
    "# Exercise 41\n",
    "```\n",
    "\n",
    "---"
   ]
  },
  {
   "cell_type": "code",
   "execution_count": 66,
   "id": "738bd83c",
   "metadata": {},
   "outputs": [
    {
     "name": "stdout",
     "output_type": "stream",
     "text": [
      "mmap\" est une bibliothèque Python qui permet de mapper des fichiers ou des segments de mémoire en Python. Elle fournit une interface qui ressemble à celle de tableaux Python, ce qui permet d'accéder aux données du fichier ou du segment de mémoire comme s'il s'agissait d'un tableau Python.\n",
      "L'utilisation de \"mmap\" peut être une approche plus efficace pour accéder aux données d'un fichier ou d'un segment de mémoire que l'utilisation de fonctions de lecture et d'écriture standard, car elle permet de mapper le fichier ou le segment de mémoire en mémoire et d'accéder aux données de manière directe, sans passer par l'overhead de l'interpréteur Python. Cela peut être particulièrement utile pour traiter de grandes quantités de données ou pour accéder à des données de manière répétée.\n",
      "Voici comment utiliser \"mmap\" pour lire un fichier en Python :\n"
     ]
    }
   ],
   "source": [
    "file=open('/home/bint-idriss/Documents/calpin2/python.txt','r')\n",
    "content=file.readlines()\n",
    "file.close()\n",
    "for i in content:\n",
    "    if \"Python\" in i:\n",
    "        print (i.strip())"
   ]
  },
  {
   "cell_type": "markdown",
   "id": "d2060aba",
   "metadata": {
    "id": "bea983a3"
   },
   "source": [
    "### Exercise 42:\n",
    "Write a Python script that opens a file and removes all numeric digits from the file's content.\n",
    "\n",
    "```python\n",
    "# Exercise 42\n",
    "```\n",
    "\n",
    "---"
   ]
  },
  {
   "cell_type": "code",
   "execution_count": 68,
   "id": "359cfb8c",
   "metadata": {},
   "outputs": [
    {
     "name": "stdout",
     "output_type": "stream",
     "text": [
      " Like one who wanders  in the field, when the night in the world\n",
      "\n",
      "Delight all CLARity, I had lost a long time\n",
      "\n",
      "Way, road ressasser and light, and #ALMOST with meaning,\n",
      "\n",
      "Lost* the object FOr a long time, where the more my time is founded.\n",
      "\n",
      "But when we see,  having these  kayak evils  finished their turn,\n",
      "\n",
      "To the  bob woods, AT sea, to the fields, the %end, the port, the day,\n",
      "\n",
      "This greater present eve THing than his  evil one comes radar to believe.\n",
      "\n",
      "\n"
     ]
    }
   ],
   "source": [
    "file=open('/home/bint-idriss/Documents/calpin2/example.txt','r')\n",
    "content=file.read()\n",
    "file.close()\n",
    "R=''.join( i for i in content if not i.isdigit())\n",
    "print(R)"
   ]
  },
  {
   "cell_type": "markdown",
   "id": "fa7242fe",
   "metadata": {
    "id": "bea983a3"
   },
   "source": [
    "### Exercise 43:\n",
    "Write a Python script to find the most frequent word in a text file `\"book.txt\"`.\n",
    "\n",
    "```python\n",
    "# Exercise 43\n",
    "```\n",
    "\n",
    "---"
   ]
  },
  {
   "cell_type": "code",
   "execution_count": 14,
   "id": "3c4acb82",
   "metadata": {},
   "outputs": [
    {
     "name": "stdout",
     "output_type": "stream",
     "text": [
      "les\n"
     ]
    }
   ],
   "source": [
    "import string\n",
    "file=open(\"/home/bint-idriss/Documents/calpin2/book.txt\",'r')\n",
    "content=file.read()\n",
    "file.close()\n",
    "P=string.punctuation\n",
    "for ch in P:\n",
    "    content=content.replace(ch,'')\n",
    "    \n",
    "text=content.split()\n",
    "C={}\n",
    "for i in text:\n",
    "    if i in C:\n",
    "        C[i]+=1\n",
    "    else:\n",
    "        C[i]=1\n",
    "M_word=max(C,key=C.get)\n",
    "F_word=C[M_word]\n",
    "print (M_word)\n",
    "    "
   ]
  },
  {
   "cell_type": "markdown",
   "id": "c0f9178d",
   "metadata": {
    "id": "bea983a3"
   },
   "source": [
    "### Exercise 44:\n",
    "Write a Python script that reads a file and prints all the lines that contain exactly 5 words.\n",
    "\n",
    "```python\n",
    "# Exercise 44\n",
    "```\n",
    "\n",
    "\n",
    "---"
   ]
  },
  {
   "cell_type": "code",
   "execution_count": null,
   "id": "7e188bf1",
   "metadata": {},
   "outputs": [],
   "source": [
    "file=open(\"/home/bint-idriss/Documents/calpin2/book.txt\",'r')\n",
    "content=file.read()\n",
    "file.close()\n",
    " for i in content:\n",
    "        word=i.strip().split()"
   ]
  },
  {
   "cell_type": "markdown",
   "id": "eaf07e24",
   "metadata": {
    "id": "bea983a3"
   },
   "source": [
    "### Exercise 45:\n",
    "Write a Python script to read a file and print the first and last line of the file.\n",
    "\n",
    "```python\n",
    "# Exercise 45\n",
    "```\n",
    "\n",
    "---"
   ]
  },
  {
   "cell_type": "code",
   "execution_count": 3,
   "id": "740c402f",
   "metadata": {},
   "outputs": [
    {
     "name": "stdout",
     "output_type": "stream",
     "text": [
      "first lines :  Assez de malheureux ici-bas vous implorent,\n",
      "last lines :  Va dissiper la nuit.\n"
     ]
    }
   ],
   "source": [
    "try:\n",
    "    with open(\"/home/bint-idriss/Documents/calpin2/book.txt\",'r') as file:\n",
    "        content=file.readlines()\n",
    "    if content:\n",
    "        print('first lines : ',content[0].rstrip())\n",
    "        print('last lines : ',content[-1].rstrip())\n",
    "    else:\n",
    "        print(\"file is empty\")\n",
    "except FileNotFoundError:\n",
    "    print(\"file not found\")\n",
    "\n"
   ]
  },
  {
   "cell_type": "markdown",
   "id": "d91be835",
   "metadata": {
    "id": "bea983a3"
   },
   "source": [
    "### Exercise 46:\n",
    "Write a Python script that checks if a file `\"students.txt\"` is writable.\n",
    "\n",
    "```python\n",
    "# Exercise 46\n",
    "```\n",
    "\n",
    "---"
   ]
  },
  {
   "cell_type": "code",
   "execution_count": 7,
   "id": "2c02b43c",
   "metadata": {},
   "outputs": [
    {
     "name": "stdout",
     "output_type": "stream",
     "text": [
      "file is writable\n"
     ]
    }
   ],
   "source": [
    "try:\n",
    "    with open(\"/home/bint-idriss/Documents/calpin2/students.txt\",'w') as file:\n",
    "        if True:\n",
    "            print ('file is writable')\n",
    "       \n",
    "        else:\n",
    "            print(\"file is empty\")\n",
    "except FileNotFoundError:\n",
    "    print(\"file not found\")"
   ]
  },
  {
   "cell_type": "markdown",
   "id": "86405eb7",
   "metadata": {
    "id": "bea983a3"
   },
   "source": [
    "### Exercise 47:\n",
    "Create a Python function that opens a file and returns the number of unique words in the file.\n",
    "\n",
    "```python\n",
    "# Exercise 47\n",
    "```\n",
    "\n",
    "---"
   ]
  },
  {
   "cell_type": "code",
   "execution_count": 8,
   "id": "3b928f17",
   "metadata": {},
   "outputs": [
    {
     "data": {
      "text/plain": [
       "48"
      ]
     },
     "execution_count": 8,
     "metadata": {},
     "output_type": "execute_result"
    }
   ],
   "source": [
    "def count_unique_word(file):\n",
    "    try:\n",
    "        with open(\"/home/bint-idriss/Documents/calpin2/book.txt\",'r') as file:\n",
    "            content=file.read()\n",
    "            content_1=content.split()\n",
    "            content_unique=set(content_1)\n",
    "            return len(content_unique)\n",
    "    except FileNotFoundError:\n",
    "            print('file not found')\n",
    "            \n",
    "count_unique_word(\"book.txt\")   "
   ]
  },
  {
   "cell_type": "markdown",
   "id": "d075dcd1",
   "metadata": {
    "id": "bea983a3"
   },
   "source": [
    "### Exercise 48:\n",
    "Write a Python script that reads a file and prints all lines in reverse order.\n",
    "\n",
    "```python\n",
    "# Exercise 48\n",
    "```\n",
    "\n",
    "---"
   ]
  },
  {
   "cell_type": "code",
   "execution_count": 11,
   "id": "99e4e0e6",
   "metadata": {},
   "outputs": [
    {
     "name": "stdout",
     "output_type": "stream",
     "text": [
      "['Va dissiper la nuit.\\n', \"Je dis à cette nuit : Sois plus lente ; et l'aurore\\n\", \"Le temps m'échappe et fuit ;\\n\", 'Mais je demande en vain quelques moments encore,\\n', '\\n', 'Oubliez les heureux.\\n', 'Prenez avec leurs jours les soins qui les dévorent ;\\n', 'Coulez, coulez pour eux ;\\n', 'Assez de malheureux ici-bas vous implorent,\\n']\n"
     ]
    }
   ],
   "source": [
    "try:\n",
    "    with open(\"/home/bint-idriss/Documents/calpin2/book.txt\",'r') as file:\n",
    "        content=file.readlines()\n",
    "        new_content=content[::-1]\n",
    "        print(new_content,sep=' ')\n",
    "except FileNotFoundError:\n",
    "        print(\"File not found\")"
   ]
  },
  {
   "cell_type": "markdown",
   "id": "a9663e61",
   "metadata": {
    "id": "bea983a3"
   },
   "source": [
    "### Exercise 49:\n",
    "Write a Python function that reads a file and returns the most common letter in the text.\n",
    "\n",
    "```python\n",
    "# Exercise 49\n",
    "```\n",
    "\n",
    "---"
   ]
  },
  {
   "cell_type": "code",
   "execution_count": 15,
   "id": "230aae0a",
   "metadata": {},
   "outputs": [
    {
     "name": "stdout",
     "output_type": "stream",
     "text": [
      "nuit\n"
     ]
    }
   ],
   "source": [
    "import string\n",
    "with open(\"/home/bint-idriss/Documents/calpin2/book.txt\",'r') as file:\n",
    "    content=file.read().lower()\n",
    "\n",
    "    P=string.punctuation\n",
    "    for ch in P:\n",
    "        content=content.replace(ch,'')\n",
    "\n",
    "    text=content.split()\n",
    "    N=''.join(i for i in text if i.isalpha())\n",
    "    C={}\n",
    "    for j in N:\n",
    "        if j in C:\n",
    "            C[i]+=1\n",
    "        else:\n",
    "            C[i]=1\n",
    "    M_letter=max(C,key=C.get)\n",
    "    F_letter=C[M_letter]\n",
    "    print (M_letter)"
   ]
  },
  {
   "cell_type": "markdown",
   "id": "bea983a3",
   "metadata": {
    "id": "bea983a3"
   },
   "source": [
    "### Exercise 50:\n",
    "Write a Python script that reads a file and replaces every occurrence of `\"Python\"` with `\"Java\"`.\n",
    "\n",
    "```python\n",
    "# Exercise 50\n",
    "```\n",
    "\n",
    "---"
   ]
  },
  {
   "cell_type": "code",
   "execution_count": 20,
   "id": "7f9f0081",
   "metadata": {},
   "outputs": [
    {
     "name": "stdout",
     "output_type": "stream",
     "text": [
      "Mmap\" Est Une Bibliothèque Java Qui Permet De Mapper Des Fichiers Ou Des Segments De Mémoire En Java. Elle Fournit Une Interface Qui Ressemble À Celle De Tableaux Java, Ce Qui Permet D'Accéder Aux Données Du Fichier Ou Du Segment De Mémoire Comme S'Il S'Agissait D'Un Tableau Java.\n",
      "\n",
      "L'Utilisation De \"Mmap\" Peut Être Une Approche Plus Efficace Pour Accéder Aux Données D'Un Fichier Ou D'Un Segment De Mémoire Que L'Utilisation De Fonctions De Lecture Et D'Écriture Standard, Car Elle Permet De Mapper Le Fichier Ou Le Segment De Mémoire En Mémoire Et D'Accéder Aux Données De Manière Directe, Sans Passer Par L'Overhead De L'Interpréteur Java. Cela Peut Être Particulièrement Utile Pour Traiter De Grandes Quantités De Données Ou Pour Accéder À Des Données De Manière Répétée.\n",
      "\n",
      "Voici Comment Utiliser \"Mmap\" Pour Lire Un Fichier En Java :\n",
      "\n"
     ]
    }
   ],
   "source": [
    "\n",
    "with open(\"/home/bint-idriss/Documents/calpin2/python.txt\",'r') as file:\n",
    "    content=file.read()\n",
    "    content_1=content.title()\n",
    "\n",
    "    if 'Python' in content_1:\n",
    "        content_2=content_1.replace('Python','Java')\n",
    "    print(content_2)"
   ]
  },
  {
   "cell_type": "code",
   "execution_count": null,
   "id": "76486322",
   "metadata": {},
   "outputs": [],
   "source": []
  }
 ],
 "metadata": {
  "colab": {
   "provenance": []
  },
  "kernelspec": {
   "display_name": "Python 3 (ipykernel)",
   "language": "python",
   "name": "python3"
  },
  "language_info": {
   "codemirror_mode": {
    "name": "ipython",
    "version": 3
   },
   "file_extension": ".py",
   "mimetype": "text/x-python",
   "name": "python",
   "nbconvert_exporter": "python",
   "pygments_lexer": "ipython3",
   "version": "3.12.3"
  }
 },
 "nbformat": 4,
 "nbformat_minor": 5
}
