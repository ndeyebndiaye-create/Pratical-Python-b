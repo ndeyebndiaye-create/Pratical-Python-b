{
 "cells": [
  {
   "cell_type": "markdown",
   "id": "d68c1dee",
   "metadata": {
    "id": "d68c1dee"
   },
   "source": [
    "# Practical_4: Flow control"
   ]
  },
  {
   "cell_type": "markdown",
   "id": "41f9525c",
   "metadata": {
    "id": "bea983a3"
   },
   "source": [
    "---\n",
    "\n",
    "### Exercise 1:\n",
    "Write a Python program that checks if a number is positive or negative.\n",
    "\n",
    "```python\n",
    "# Exercise 1\n",
    "```\n",
    "\n",
    "---"
   ]
  },
  {
   "cell_type": "code",
   "execution_count": null,
   "id": "b8cbbf85",
   "metadata": {},
   "outputs": [],
   "source": [
    "n=float(input('enter a value of n'))\n",
    "if n>0:\n",
    "    print('n is positive')\n",
    "if n<0:\n",
    "    print('n is negative')"
   ]
  },
  {
   "cell_type": "markdown",
   "id": "8de08082",
   "metadata": {
    "id": "bea983a3"
   },
   "source": [
    "### Exercise 2:\n",
    "Write a Python function that checks if a string starts with a vowel.\n",
    "\n",
    "```python\n",
    "# Exercise 2\n",
    "```\n",
    "\n",
    "---"
   ]
  },
  {
   "cell_type": "code",
   "execution_count": null,
   "id": "4629870c",
   "metadata": {},
   "outputs": [],
   "source": [
    "def starts(string):\n",
    "    vowels=('a','e','i','u','o')\n",
    "    return string.lower().startwith(vowels) if string else False\n",
    "print(starts(\"pomme\"))\n"
   ]
  },
  {
   "cell_type": "markdown",
   "id": "6c3aeee1",
   "metadata": {
    "id": "bea983a3"
   },
   "source": [
    "### Exercise 3:\n",
    "Write a Python program that takes a list of integers and prints \"Even\" for each even number and \"Odd\" for each odd number.\n",
    "\n",
    "```python\n",
    "# Exercise 3\n",
    "```\n",
    "\n",
    "---"
   ]
  },
  {
   "cell_type": "code",
   "execution_count": null,
   "id": "9e5756b4",
   "metadata": {},
   "outputs": [],
   "source": [
    "def check(num):\n",
    "    for i in num:\n",
    "        if i%2==0:\n",
    "            print(f\"{i} : even\")\n",
    "        else:\n",
    "            print(f\"{i} : odd\")\n",
    "num=[1,2,3,4,5,6]\n",
    "check(num)"
   ]
  },
  {
   "cell_type": "markdown",
   "id": "e9058109",
   "metadata": {
    "id": "bea983a3"
   },
   "source": [
    "### Exercise 4:\n",
    "Write a Python program that checks if a given year is a leap year.\n",
    "\n",
    "```python\n",
    "# Exercise 4\n",
    "```\n",
    "\n",
    "---"
   ]
  },
  {
   "cell_type": "code",
   "execution_count": null,
   "id": "d4584f47",
   "metadata": {},
   "outputs": [],
   "source": [
    "def leap(year):\n",
    "    return year O%4==0 and (year%100 !=0 or year %400 ==0 )\n",
    "year=[ 1900, 1904, 2000, 2004, 2020, 2021, 2024,2100, 2400, 2008, 2012, 2016]\n",
    "leap(year)"
   ]
  },
  {
   "cell_type": "markdown",
   "id": "f559f329",
   "metadata": {
    "id": "bea983a3"
   },
   "source": [
    "### Exercise 5:\n",
    "Write a Python function that checks if a number is divisible by both 3 and 5.\n",
    "\n",
    "```python\n",
    "# Exercise 5\n",
    "```\n",
    "\n",
    "---"
   ]
  },
  {
   "cell_type": "code",
   "execution_count": null,
   "id": "0445a930",
   "metadata": {},
   "outputs": [],
   "source": [
    "def divisible(num):\n",
    "    return num%3==0 and num%5==0\n",
    "num=[1,2,3,4,5,6,7,8,9,99,87,6,54,23,23,56,777,19]"
   ]
  },
  {
   "cell_type": "markdown",
   "id": "37a98ec4",
   "metadata": {
    "id": "bea983a3"
   },
   "source": [
    "### Exercise 6:\n",
    "Write a Python program that prints \"Hot\" if the temperature is above 30, \"Warm\" if it is between 15 and 30, and \"Cold\" if it is below 15.\n",
    "\n",
    "```python\n",
    "# Exercise 6\n",
    "```\n",
    "\n",
    "\n",
    "---"
   ]
  },
  {
   "cell_type": "code",
   "execution_count": null,
   "id": "97bb3ffc",
   "metadata": {},
   "outputs": [],
   "source": []
  },
  {
   "cell_type": "markdown",
   "id": "bb35c9f1",
   "metadata": {
    "id": "bea983a3"
   },
   "source": [
    "### Exercise 7:\n",
    "Write a Python program that checks if a string contains the letter 'a'.\n",
    "\n",
    "```python\n",
    "# Exercise 7\n",
    "```\n",
    "\n",
    "---"
   ]
  },
  {
   "cell_type": "code",
   "execution_count": 1,
   "id": "757ebab2",
   "metadata": {},
   "outputs": [
    {
     "name": "stdout",
     "output_type": "stream",
     "text": [
      "a is in string\n"
     ]
    }
   ],
   "source": [
    "string=\"apple\"\n",
    "if 'a' in string:\n",
    "    print(\"a is in string\")\n",
    "else:\n",
    "    print(\"a is not here\")"
   ]
  },
  {
   "cell_type": "markdown",
   "id": "3fed9639",
   "metadata": {
    "id": "bea983a3"
   },
   "source": [
    "### Exercise 8:\n",
    "Write a Python function that checks if two numbers are equal, or which one is larger.\n",
    "\n",
    "```python\n",
    "# Exercise 8\n",
    "```\n",
    "\n",
    "---"
   ]
  },
  {
   "cell_type": "code",
   "execution_count": null,
   "id": "b49a5107",
   "metadata": {},
   "outputs": [],
   "source": []
  },
  {
   "cell_type": "markdown",
   "id": "5dde5ee0",
   "metadata": {
    "id": "bea983a3"
   },
   "source": [
    "### Exercise 9:\n",
    "Write a Python program that checks if a list is empty.\n",
    "\n",
    "```python\n",
    "# Exercise 9\n",
    "```\n",
    "\n",
    "---"
   ]
  },
  {
   "cell_type": "code",
   "execution_count": null,
   "id": "5b56889e",
   "metadata": {},
   "outputs": [],
   "source": [
    "L=[]\n",
    "if L:\n",
    "    print(\"list is not empty\")\n",
    "else:\n",
    "    print('listis empty')"
   ]
  },
  {
   "cell_type": "markdown",
   "id": "f917ef90",
   "metadata": {
    "id": "bea983a3"
   },
   "source": [
    "### Exercise 10:\n",
    "Write a Python function that takes two strings and checks if they are anagrams.\n",
    "\n",
    "```python\n",
    "# Exercise 10\n",
    "```\n",
    "\n",
    "---"
   ]
  },
  {
   "cell_type": "code",
   "execution_count": null,
   "id": "f7a7ffac",
   "metadata": {},
   "outputs": [],
   "source": [
    "def anagrams(s1,s2):\n",
    "    s1=s1.replace(\" \",\"\").lower()\n",
    "    s2=s2.replace(\" \",\"\").lower()\n",
    "    return sorted(s1)==sorted(s2)\n",
    "print(anagrams(\"python\",\"typhon\"))"
   ]
  },
  {
   "cell_type": "markdown",
   "id": "f5288124",
   "metadata": {
    "id": "bea983a3"
   },
   "source": [
    "### Exercise 11:\n",
    "Write a Python program that checks if a number is prime.\n",
    "\n",
    "```python\n",
    "# Exercise 11\n",
    "```\n",
    "\n",
    "---"
   ]
  },
  {
   "cell_type": "code",
   "execution_count": null,
   "id": "5f0bcb83",
   "metadata": {},
   "outputs": [],
   "source": [
    "def prime(n):\n",
    "    if n<2:\n",
    "        return False\n",
    "    for i in range (2,int (n**0.5)+1):\n",
    "        if n%i==0:\n",
    "            return False\n",
    "    return True"
   ]
  },
  {
   "cell_type": "markdown",
   "id": "cf3fbe62",
   "metadata": {
    "id": "bea983a3"
   },
   "source": [
    "### Exercise 12:\n",
    "Write a Python program that checks if a list of numbers is sorted in ascending order.\n",
    "\n",
    "```python\n",
    "# Exercise 12\n",
    "```\n",
    "\n",
    "---"
   ]
  },
  {
   "cell_type": "code",
   "execution_count": null,
   "id": "b7d71e9a",
   "metadata": {},
   "outputs": [],
   "source": [
    "def is_sorted(num):\n",
    "    for i in range(len(num)-1):\n",
    "        of num[i]>num[i+1]:\n",
    "            return False\n",
    "        return True"
   ]
  },
  {
   "cell_type": "markdown",
   "id": "57e7ecc3",
   "metadata": {
    "id": "bea983a3"
   },
   "source": [
    "### Exercise 13:\n",
    "Write a Python function that takes a character and checks if it is a digit.\n",
    "\n",
    "```python\n",
    "# Exercise 13\n",
    "```\n",
    "\n",
    "---"
   ]
  },
  {
   "cell_type": "code",
   "execution_count": null,
   "id": "343157f4",
   "metadata": {},
   "outputs": [],
   "source": [
    "def check(ch):\n",
    "    if ch.isdigit():\n",
    "        print(\"is digit\")\n",
    "    if ch.isalpha():\n",
    "        print(\"is character\")\n",
    "ch=input(\"enter something\")\n",
    "check(ch)\n"
   ]
  },
  {
   "cell_type": "markdown",
   "id": "858aa8e6",
   "metadata": {
    "id": "bea983a3"
   },
   "source": [
    "### Exercise 14:\n",
    "Write a Python function that checks if a string contains only uppercase letters.\n",
    "\n",
    "```python\n",
    "# Exercise 14\n",
    "```\n",
    "\n",
    "---"
   ]
  },
  {
   "cell_type": "code",
   "execution_count": null,
   "id": "4d27bf51",
   "metadata": {},
   "outputs": [],
   "source": []
  },
  {
   "cell_type": "markdown",
   "id": "4d67aed7",
   "metadata": {
    "id": "bea983a3"
   },
   "source": [
    "### Exercise 15:\n",
    "Write a Python program that checks if a number is a multiple of 10.\n",
    "\n",
    "```python\n",
    "# Exercise 15\n",
    "```\n",
    "\n",
    "---"
   ]
  },
  {
   "cell_type": "code",
   "execution_count": null,
   "id": "6c8b49a8",
   "metadata": {},
   "outputs": [],
   "source": [
    "def multiple_10(n):\n",
    "    return n%10==0"
   ]
  },
  {
   "cell_type": "markdown",
   "id": "9207a72f",
   "metadata": {
    "id": "bea983a3"
   },
   "source": [
    "### Exercise 16:\n",
    "Write a Python function that checks if a list contains any duplicates.\n",
    "\n",
    "```python\n",
    "# Exercise 16\n",
    "```\n",
    "\n",
    "---"
   ]
  },
  {
   "cell_type": "code",
   "execution_count": null,
   "id": "39f5e3eb",
   "metadata": {},
   "outputs": [],
   "source": [
    "def duplicates(lst):\n",
    "    return len(lst)!=len (set(lst))"
   ]
  },
  {
   "cell_type": "markdown",
   "id": "216712ab",
   "metadata": {
    "id": "bea983a3"
   },
   "source": [
    "### Exercise 17:\n",
    "Write a Python program that prints \"Teenager\" if the age is between 13 and 19, otherwise it prints \"Not a teenager.\"\n",
    "\n",
    "```python\n",
    "# Exercise 17\n",
    "```\n",
    "\n",
    "---"
   ]
  },
  {
   "cell_type": "code",
   "execution_count": null,
   "id": "f12f58e3",
   "metadata": {},
   "outputs": [],
   "source": [
    "age=int(input(\"enter a age\"))\n",
    "if 13<age<19:\n",
    "    print(\"teenager\")\n",
    "else:\n",
    "    print(\"not a teenager\")"
   ]
  },
  {
   "cell_type": "markdown",
   "id": "965580c5",
   "metadata": {
    "id": "bea983a3"
   },
   "source": [
    "### Exercise 18:\n",
    "Write a Python function that checks if a list contains an element greater than 100.\n",
    "\n",
    "```python\n",
    "# Exercise 18\n",
    "```\n",
    "\n",
    "---"
   ]
  },
  {
   "cell_type": "code",
   "execution_count": null,
   "id": "91110b8c",
   "metadata": {},
   "outputs": [],
   "source": [
    "def function(num):\n",
    "    for num in lists:\n",
    "        if num>100:\n",
    "            return True\n",
    "    return False\n",
    "num=[2,4,5,67,889,4,45,2312,3456,68,789,98]\n",
    "for i in lists:\n",
    "    result=function(num)\n",
    "    print(result)\n",
    "    "
   ]
  },
  {
   "cell_type": "markdown",
   "id": "1db9c66d",
   "metadata": {
    "id": "bea983a3"
   },
   "source": [
    "### Exercise 19:\n",
    "Write a Python program that checks if a number is even or odd.\n",
    "\n",
    "```python\n",
    "# Exercise 19\n",
    "```\n",
    "\n",
    "---"
   ]
  },
  {
   "cell_type": "code",
   "execution_count": null,
   "id": "bd5384da",
   "metadata": {},
   "outputs": [],
   "source": [
    "n=int(input(\"value n\"))\n",
    "if n%2==0:\n",
    "    print(\"is even\")\n",
    "if n%2!=0:\n",
    "    print('is odd')"
   ]
  },
  {
   "cell_type": "markdown",
   "id": "66fa69a4",
   "metadata": {
    "id": "bea983a3"
   },
   "source": [
    "### Exercise 20:\n",
    "Write a Python function that checks if a string ends with a punctuation mark.\n",
    "\n",
    "```python\n",
    "# Exercise 20\n",
    "```\n",
    "\n",
    "---"
   ]
  },
  {
   "cell_type": "code",
   "execution_count": null,
   "id": "c63f927f",
   "metadata": {},
   "outputs": [],
   "source": [
    "import string\n",
    "def punct(string):\n",
    "    punct_ch=tuple(string.punctuation)\n",
    "    return string.endswith(punct_ch)\n",
    "strings=[\"hwllo\",\"aims\",\"python\"]\n",
    "for i in strings:\n",
    "    result=punct(i)"
   ]
  },
  {
   "cell_type": "markdown",
   "id": "cdd153af",
   "metadata": {
    "id": "bea983a3"
   },
   "source": [
    "### Exercise 21:\n",
    "Write a Python program that prints \"Yes\" if the number is between 1 and 100, otherwise it prints \"No.\"\n",
    "\n",
    "```python\n",
    "# Exercise 21\n",
    "```\n",
    "\n",
    "---\n"
   ]
  },
  {
   "cell_type": "code",
   "execution_count": null,
   "id": "afa9f4f1",
   "metadata": {},
   "outputs": [],
   "source": [
    "n=int(input(\"value n\"))\n",
    "if 1<n<100:\n",
    "    print('yes')\n",
    "else:\n",
    "    print(\"no\")"
   ]
  },
  {
   "cell_type": "markdown",
   "id": "b58688db",
   "metadata": {
    "id": "bea983a3"
   },
   "source": [
    "### Exercise 22:\n",
    "Write a Python program that checks if two strings have the same length.\n",
    "\n",
    "```python\n",
    "# Exercise 22\n",
    "```\n",
    "\n",
    "---"
   ]
  },
  {
   "cell_type": "code",
   "execution_count": null,
   "id": "1a36d621",
   "metadata": {},
   "outputs": [],
   "source": []
  },
  {
   "cell_type": "markdown",
   "id": "8009067e",
   "metadata": {
    "id": "bea983a3"
   },
   "source": [
    "### Exercise 23:\n",
    "Write a Python function that checks if a number is greater than its reverse.\n",
    "\n",
    "```python\n",
    "# Exercise 23\n",
    "```\n",
    "\n",
    "---"
   ]
  },
  {
   "cell_type": "code",
   "execution_count": null,
   "id": "047d75f3",
   "metadata": {},
   "outputs": [],
   "source": []
  },
  {
   "cell_type": "markdown",
   "id": "239ce74b",
   "metadata": {
    "id": "bea983a3"
   },
   "source": [
    "### Exercise 24:\n",
    "Write a Python program that checks if a password contains both letters and numbers.\n",
    "\n",
    "```python\n",
    "# Exercise 24\n",
    "```\n",
    "\n",
    "---"
   ]
  },
  {
   "cell_type": "code",
   "execution_count": null,
   "id": "afc16f4b",
   "metadata": {},
   "outputs": [],
   "source": [
    "def password(x):\n",
    "    letter=False\n",
    "    digit=True\n",
    "    for i in x:\n",
    "        if i.isalpha():\n",
    "            letter=True\n",
    "        elif i.isdigit():\n",
    "            digit=True\n",
    "        if letter and digit:\n",
    "            return True\n",
    "    return False"
   ]
  },
  {
   "cell_type": "markdown",
   "id": "18eab5c8",
   "metadata": {
    "id": "bea983a3"
   },
   "source": [
    "### Exercise 25:\n",
    "Write a Python program that checks if a number is between two given numbers.\n",
    "\n",
    "```python\n",
    "# Exercise 25\n",
    "```\n",
    "\n",
    "---"
   ]
  },
  {
   "cell_type": "code",
   "execution_count": null,
   "id": "9508eb7c",
   "metadata": {},
   "outputs": [],
   "source": [
    "def between(n,a,b):\n",
    "    return a<=n n<=b\n",
    "between(3,4,5)"
   ]
  },
  {
   "cell_type": "markdown",
   "id": "2d6af3af",
   "metadata": {
    "id": "bea983a3"
   },
   "source": [
    "### Exercise 26:\n",
    "Write a Python function that checks if all characters in a string are unique.\n",
    "\n",
    "```python\n",
    "# Exercise 26\n",
    "```\n",
    "\n",
    "---"
   ]
  },
  {
   "cell_type": "code",
   "execution_count": null,
   "id": "99a43fed",
   "metadata": {},
   "outputs": [],
   "source": [
    "def all_unique(i):\n",
    "    return len(i)==len (set(i))"
   ]
  },
  {
   "cell_type": "markdown",
   "id": "91a35111",
   "metadata": {
    "id": "bea983a3"
   },
   "source": [
    "### Exercise 27:\n",
    "Write a Python program that checks if a number is a perfect square.\n",
    "\n",
    "```python\n",
    "# Exercise 27\n",
    "```\n",
    "\n",
    "---"
   ]
  },
  {
   "cell_type": "code",
   "execution_count": null,
   "id": "f9602424",
   "metadata": {},
   "outputs": [],
   "source": [
    "def perfect(n):\n",
    "    if n<0:\n",
    "        return False\n",
    "    i=int(n**0.5)\n",
    "    return i*i==n"
   ]
  },
  {
   "cell_type": "markdown",
   "id": "40aa9b96",
   "metadata": {
    "id": "bea983a3"
   },
   "source": [
    "### Exercise 28:\n",
    "Write a Python function that checks if a word is a palindrome.\n",
    "\n",
    "```python\n",
    "# Exercise 28\n",
    "```\n",
    "\n",
    "---"
   ]
  },
  {
   "cell_type": "code",
   "execution_count": null,
   "id": "08ca2cb2",
   "metadata": {},
   "outputs": [],
   "source": [
    "def palindrome(word):\n",
    "    word=word.lower()\n",
    "    return word==word[::-1]\n",
    "palindrome('radar')"
   ]
  },
  {
   "cell_type": "markdown",
   "id": "570966f8",
   "metadata": {
    "id": "bea983a3"
   },
   "source": [
    "### Exercise 29:\n",
    "Write a Python program that prints \"Fizz\" if a number is divisible by 3, \"Buzz\" if it is divisible by 5, and \"FizzBuzz\" if divisible by both.\n",
    "\n",
    "```python\n",
    "# Exercise 29\n",
    "```\n",
    "\n",
    "---"
   ]
  },
  {
   "cell_type": "code",
   "execution_count": null,
   "id": "8ef5f2b6",
   "metadata": {},
   "outputs": [],
   "source": [
    "def function(n):\n",
    "    if n % 3 == 0 and n % 5 == 0:\n",
    "        return \"FizzBuzz\"\n",
    "    elif n % 3 == 0:\n",
    "        return \"Fizz\"\n",
    "    elif n % 5 == 0:\n",
    "        return \"Buzz\"\n",
    "    else:\n",
    "        return str(n)\n",
    "for i in range(1,21):\n",
    "    print(function(i))"
   ]
  },
  {
   "cell_type": "markdown",
   "id": "3fd76e9f",
   "metadata": {
    "id": "bea983a3"
   },
   "source": [
    "### Exercise 30:\n",
    "Write a Python program that checks if the sum of the digits of a number is even.\n",
    "\n",
    "```python\n",
    "# Exercise 30\n",
    "```\n",
    "\n",
    "---"
   ]
  },
  {
   "cell_type": "code",
   "execution_count": null,
   "id": "7dba9a5b",
   "metadata": {},
   "outputs": [],
   "source": [
    "def sum_digit(n):\n",
    "    n=abs(n)\n",
    "    tot=sum(int(digit) dor digit in str(n))\n",
    "    return tot%2==0\n",
    "sum_digit(10)"
   ]
  },
  {
   "cell_type": "markdown",
   "id": "1fd04cbb",
   "metadata": {
    "id": "bea983a3"
   },
   "source": [
    "### Exercise 31:\n",
    "Write a Python program that checks if a string is a valid email address.\n",
    "\n",
    "```python\n",
    "# Exercise 31\n",
    "```\n",
    "\n",
    "---"
   ]
  },
  {
   "cell_type": "code",
   "execution_count": null,
   "id": "df7212ba",
   "metadata": {},
   "outputs": [],
   "source": []
  },
  {
   "cell_type": "markdown",
   "id": "3cafcf9b",
   "metadata": {
    "id": "bea983a3"
   },
   "source": [
    "### Exercise 32:\n",
    "Write a Python function that checks if a number is within 10 of 100 or 200.\n",
    "\n",
    "```python\n",
    "# Exercise 32\n",
    "```\n",
    "\n",
    "---"
   ]
  },
  {
   "cell_type": "code",
   "execution_count": null,
   "id": "dbf1736d",
   "metadata": {},
   "outputs": [],
   "source": [
    "def function(n):\n",
    "    return abs(100-n)<=10 or abs(200-n)<=10"
   ]
  },
  {
   "cell_type": "markdown",
   "id": "7b952fc5",
   "metadata": {
    "id": "bea983a3"
   },
   "source": [
    "### Exercise 33:\n",
    "Write a Python program that checks if a given string is a valid URL.\n",
    "\n",
    "```python\n",
    "# Exercise 33\n",
    "```\n",
    "\n",
    "---"
   ]
  },
  {
   "cell_type": "code",
   "execution_count": null,
   "id": "340a060c",
   "metadata": {},
   "outputs": [],
   "source": []
  },
  {
   "cell_type": "markdown",
   "id": "ca227be9",
   "metadata": {
    "id": "bea983a3"
   },
   "source": [
    "### Exercise 34:\n",
    "Write a Python program that checks if a list contains all even numbers.\n",
    "\n",
    "```python\n",
    "# Exercise 34\n",
    "```\n",
    "\n",
    "---"
   ]
  },
  {
   "cell_type": "code",
   "execution_count": null,
   "id": "04287daf",
   "metadata": {},
   "outputs": [],
   "source": [
    "def even(lists):\n",
    "    for i in lists:\n",
    "        if i%2!=0:\n",
    "            return False\n",
    "    return True\n",
    "lists=[1,2,3,4,5,6,7,8,9]\n",
    "even(lists)"
   ]
  },
  {
   "cell_type": "markdown",
   "id": "6a671633",
   "metadata": {
    "id": "bea983a3"
   },
   "source": [
    "### Exercise 35:\n",
    "Write a Python program that checks if a word is longer than a given length.\n",
    "\n",
    "```python\n",
    "# Exercise 35\n",
    "```\n",
    "\n",
    "---"
   ]
  },
  {
   "cell_type": "code",
   "execution_count": null,
   "id": "c5c54633",
   "metadata": {},
   "outputs": [],
   "source": [
    "def long(i,leng):\n",
    "    return len(word)>leng\n",
    "words=[\"hello\",\"python\",\"aims\"]\n",
    "leng=3\n",
    "for i in  words:\n",
    "    result=long(i,leng)\n",
    "    print(result)"
   ]
  },
  {
   "cell_type": "markdown",
   "id": "f7c9b640",
   "metadata": {
    "id": "bea983a3"
   },
   "source": [
    "### Exercise 36:\n",
    "Write a Python program that checks if a list contains only positive numbers.\n",
    "\n",
    "```python\n",
    "# Exercise 36\n",
    "```\n",
    "\n",
    "---"
   ]
  },
  {
   "cell_type": "code",
   "execution_count": null,
   "id": "33785780",
   "metadata": {},
   "outputs": [],
   "source": [
    "def positif(lists):\n",
    "    return all(x>0 for x in lists)\n",
    "lists=[3,45,6,7,8,9,5]\n",
    "for i in lists:\n",
    "    result=positif(lists)\n",
    "    print(result"
   ]
  },
  {
   "cell_type": "markdown",
   "id": "bf3f080b",
   "metadata": {
    "id": "bea983a3"
   },
   "source": [
    "### Exercise 37:\n",
    "Write a Python function that checks if a year is a century year (i.e., divisible by 100).\n",
    "\n",
    "```python\n",
    "# Exercise 37\n",
    "```\n",
    "\n",
    "---"
   ]
  },
  {
   "cell_type": "code",
   "execution_count": null,
   "id": "46465c8c",
   "metadata": {},
   "outputs": [],
   "source": [
    "def century(year):\n",
    "    return year%100==0\n",
    "century(1900)"
   ]
  },
  {
   "cell_type": "markdown",
   "id": "46244d38",
   "metadata": {
    "id": "bea983a3"
   },
   "source": [
    "### Exercise 38:\n",
    "Write a Python program that checks if the sum of a list of numbers is greater than 100.\n",
    "\n",
    "```python\n",
    "# Exercise 38\n",
    "```\n",
    "\n",
    "---"
   ]
  },
  {
   "cell_type": "code",
   "execution_count": null,
   "id": "a1718ab4",
   "metadata": {},
   "outputs": [],
   "source": [
    "def greater(num):\n",
    "    return sum(num)>100\n",
    "greater([34,56,89])"
   ]
  },
  {
   "cell_type": "markdown",
   "id": "fc887978",
   "metadata": {
    "id": "bea983a3"
   },
   "source": [
    "### Exercise 39:\n",
    "Write a Python function that checks if a given word is a substring of another string.\n",
    "\n",
    "```python\n",
    "# Exercise 39\n",
    "```\n",
    "\n",
    "---"
   ]
  },
  {
   "cell_type": "code",
   "execution_count": null,
   "id": "4f08e2c3",
   "metadata": {},
   "outputs": [],
   "source": [
    "def function(word,text):\n",
    "    return word in text\n",
    "function('cat','concatenate')"
   ]
  },
  {
   "cell_type": "markdown",
   "id": "0abec81a",
   "metadata": {
    "id": "bea983a3"
   },
   "source": [
    "### Exercise 40:\n",
    "Write a Python program that checks if a number is a power of 2.\n",
    "\n",
    "```python\n",
    "# Exercise 40\n",
    "```\n",
    "\n",
    "---"
   ]
  },
  {
   "cell_type": "code",
   "execution_count": null,
   "id": "2f6a21ec",
   "metadata": {},
   "outputs": [],
   "source": [
    "def power(n):\n",
    "    return n>0 and(n& (n-1))==0\n",
    "power(10)\n"
   ]
  },
  {
   "cell_type": "markdown",
   "id": "60aa5385",
   "metadata": {
    "id": "bea983a3"
   },
   "source": [
    "### Exercise 41:\n",
    "Write a Python function that checks if a string contains no spaces.\n",
    "\n",
    "```python\n",
    "# Exercise 41\n",
    "```\n",
    "\n",
    "---"
   ]
  },
  {
   "cell_type": "code",
   "execution_count": null,
   "id": "86b8b443",
   "metadata": {},
   "outputs": [],
   "source": [
    "def spaces(s):\n",
    "    return ' ' not in s\n",
    "space(\"hello aims\")"
   ]
  },
  {
   "cell_type": "markdown",
   "id": "93d22ca6",
   "metadata": {
    "id": "bea983a3"
   },
   "source": [
    "### Exercise 42:\n",
    "Write a Python program that prints \"Yes\" if a number is divisible by both 2 and 3, otherwise it prints \"No.\"\n",
    "\n",
    "```python\n",
    "# Exercise 42\n",
    "```\n",
    "\n",
    "---"
   ]
  },
  {
   "cell_type": "code",
   "execution_count": null,
   "id": "aeefabf5",
   "metadata": {},
   "outputs": [],
   "source": [
    "def divisible(n):\n",
    "    return \"yes\" if n%6==0 else \"no\"\n",
    "divisible(16)"
   ]
  },
  {
   "cell_type": "markdown",
   "id": "11f8b846",
   "metadata": {
    "id": "bea983a3"
   },
   "source": [
    "### Exercise 43:\n",
    "Write a Python program that checks if a number is a palindrome.\n",
    "\n",
    "```python\n",
    "# Exercise 43\n",
    "```\n",
    "---"
   ]
  },
  {
   "cell_type": "code",
   "execution_count": null,
   "id": "10eb5133",
   "metadata": {},
   "outputs": [],
   "source": [
    "def palindrome(n):\n",
    "    n_str=str(n)\n",
    "    return n_str==n_str[::-1]\n",
    "palindrome(234)"
   ]
  },
  {
   "cell_type": "markdown",
   "id": "d42f6453",
   "metadata": {
    "id": "bea983a3"
   },
   "source": [
    "---\n",
    "\n",
    "### Exercise 44:\n",
    "Write a Python function that checks if a string is made of only lowercase letters.\n",
    "\n",
    "```python\n",
    "# Exercise 44\n",
    "```\n",
    "\n",
    "---"
   ]
  },
  {
   "cell_type": "code",
   "execution_count": null,
   "id": "38bc71f2",
   "metadata": {},
   "outputs": [],
   "source": [
    "def function(i):\n",
    "    return i.islower() and i.isalpha()\n",
    "function(\"hello\")"
   ]
  },
  {
   "cell_type": "markdown",
   "id": "ad9ae6c5",
   "metadata": {
    "id": "bea983a3"
   },
   "source": [
    "### Exercise 45:\n",
    "Write a Python program that checks if a string starts with a specific prefix.\n",
    "\n",
    "```python\n",
    "# Exercise 45\n",
    "```\n",
    "\n",
    "---"
   ]
  },
  {
   "cell_type": "code",
   "execution_count": null,
   "id": "64599a7f",
   "metadata": {},
   "outputs": [],
   "source": [
    "def start(text,prefix):\n",
    "    return text.startwith(prefix)\n",
    "start(\"hello python\")"
   ]
  },
  {
   "cell_type": "markdown",
   "id": "476e5f59",
   "metadata": {
    "id": "bea983a3"
   },
   "source": [
    "### Exercise 46:\n",
    "Write a Python function that checks if a number is divisible by any number in a given list.\n",
    "\n",
    "```python\n",
    "# Exercise 46\n",
    "```\n",
    "\n",
    "---"
   ]
  },
  {
   "cell_type": "code",
   "execution_count": null,
   "id": "19cec4ab",
   "metadata": {},
   "outputs": [],
   "source": [
    "def divisible(numb,div):\n",
    "    for i in div:\n",
    "        if numb%i==0:\n",
    "            return True\n",
    "    return False\n",
    "lists = [(20, [3, 4, 5]),(11, [2, 3]),(18, [7, 9])]\n",
    "for numb,div in lists:\n",
    "    result=divisible(numb,div)\n",
    "    "
   ]
  },
  {
   "cell_type": "markdown",
   "id": "2f4b1126",
   "metadata": {
    "id": "bea983a3"
   },
   "source": [
    "### Exercise 47:\n",
    "Write a Python program that prints \"Yes\" if a string has more than one occurrence of the same letter.\n",
    "\n",
    "```python\n",
    "# Exercise 47\n",
    "```\n",
    "\n",
    "---"
   ]
  },
  {
   "cell_type": "code",
   "execution_count": null,
   "id": "0c6c66ad",
   "metadata": {},
   "outputs": [],
   "source": [
    "def function(chaine):\n",
    "    return len(chaine) != len(set(chaine))\n",
    "\n",
    "mots = [\"programming\", \"letter\", \"aims\"]\n",
    "for mot in mots:\n",
    "    resultat = function(mot)"
   ]
  },
  {
   "cell_type": "markdown",
   "id": "c85248d0",
   "metadata": {
    "id": "bea983a3"
   },
   "source": [
    "### Exercise 48:\n",
    "Write a Python function that checks if a number is prime by dividing it by numbers up to its square root.\n",
    "\n",
    "```python\n",
    "# Exercise 48\n",
    "```\n",
    "\n",
    "---"
   ]
  },
  {
   "cell_type": "code",
   "execution_count": null,
   "id": "42a5422f",
   "metadata": {},
   "outputs": [],
   "source": [
    "def prime(n):\n",
    "    if n<2:\n",
    "        return False\n",
    "    for i in range (2,int(n**0.5)+1):\n",
    "        if n%i==0:\n",
    "            return False\n",
    "    return True"
   ]
  },
  {
   "cell_type": "markdown",
   "id": "fde4af3f",
   "metadata": {
    "id": "bea983a3"
   },
   "source": [
    "### Exercise 49:\n",
    "Write a Python program that checks if a number is within 1 of a multiple of 10.\n",
    "\n",
    "```python\n",
    "# Exercise 49\n",
    "```\n",
    "\n",
    "---"
   ]
  },
  {
   "cell_type": "code",
   "execution_count": null,
   "id": "1f7a4046",
   "metadata": {},
   "outputs": [],
   "source": [
    "def function(n):\n",
    "    remainder=n%10\n",
    "    return remainder<=10 or remainder>=0\n",
    "function(20)"
   ]
  },
  {
   "cell_type": "markdown",
   "id": "bea983a3",
   "metadata": {
    "id": "bea983a3"
   },
   "source": [
    "### Exercise 50:\n",
    "Write a Python program that prints \"In range\" if a number is between 10 and 20 (inclusive), otherwise it prints \"Out of range.\"\n",
    "\n",
    "```python\n",
    "# Exercise 50\n",
    "```\n",
    "\n",
    "---"
   ]
  },
  {
   "cell_type": "code",
   "execution_count": null,
   "id": "e98b3e64",
   "metadata": {},
   "outputs": [],
   "source": []
  }
 ],
 "metadata": {
  "colab": {
   "provenance": []
  },
  "kernelspec": {
   "display_name": "Python 3 (ipykernel)",
   "language": "python",
   "name": "python3"
  },
  "language_info": {
   "codemirror_mode": {
    "name": "ipython",
    "version": 3
   },
   "file_extension": ".py",
   "mimetype": "text/x-python",
   "name": "python",
   "nbconvert_exporter": "python",
   "pygments_lexer": "ipython3",
   "version": "3.12.3"
  }
 },
 "nbformat": 4,
 "nbformat_minor": 5
}
